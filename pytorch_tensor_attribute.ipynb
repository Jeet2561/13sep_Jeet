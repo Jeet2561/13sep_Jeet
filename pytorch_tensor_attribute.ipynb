{
  "nbformat": 4,
  "nbformat_minor": 0,
  "metadata": {
    "colab": {
      "provenance": [],
      "authorship_tag": "ABX9TyN8PfCtN7T2+bldH3AGSaCS",
      "include_colab_link": true
    },
    "kernelspec": {
      "name": "python3",
      "display_name": "Python 3"
    },
    "language_info": {
      "name": "python"
    }
  },
  "cells": [
    {
      "cell_type": "markdown",
      "metadata": {
        "id": "view-in-github",
        "colab_type": "text"
      },
      "source": [
        "<a href=\"https://colab.research.google.com/github/Jeet2561/13sep_Jeet/blob/main/pytorch_tensor_attribute.ipynb\" target=\"_parent\"><img src=\"https://colab.research.google.com/assets/colab-badge.svg\" alt=\"Open In Colab\"/></a>"
      ]
    },
    {
      "cell_type": "code",
      "execution_count": 1,
      "metadata": {
        "id": "vFaputoWfy8B"
      },
      "outputs": [],
      "source": [
        "import torch\n",
        "import numpy as np\n",
        "import pandas as pd\n",
        "import matplotlib.pyplot as plt"
      ]
    },
    {
      "cell_type": "markdown",
      "source": [
        "#Getting information from the tensor\n",
        "\n",
        "\n",
        "1.   Tensors not right datatype - to get the datatype from the tensor, use `torch.dtype`.\n",
        "2.   Tensors not right shape - to get shape from the tensor, use `tensor.shape`.\n",
        "3.   Tensors not on the right device - to get the device from the tensor, use `tensor.device`.\n",
        "\n"
      ],
      "metadata": {
        "id": "Qvp1rSQaWTkh"
      }
    },
    {
      "cell_type": "code",
      "source": [
        "# Create a tensor\n",
        "tensor = torch.rand(3,4)\n",
        "tensor"
      ],
      "metadata": {
        "colab": {
          "base_uri": "https://localhost:8080/"
        },
        "id": "_8seErIIXMLR",
        "outputId": "aa69ee16-e3e0-4ff8-c377-7bdc34c3d0f5"
      },
      "execution_count": 2,
      "outputs": [
        {
          "output_type": "execute_result",
          "data": {
            "text/plain": [
              "tensor([[0.8592, 0.9667, 0.0375, 0.0257],\n",
              "        [0.9576, 0.6657, 0.2111, 0.6142],\n",
              "        [0.6001, 0.7050, 0.9507, 0.5562]])"
            ]
          },
          "metadata": {},
          "execution_count": 2
        }
      ]
    },
    {
      "cell_type": "code",
      "source": [
        "# Details of the tensor\n",
        "print(f\"Datatype of tensor: {tensor.dtype}\")\n",
        "print(f\"Shape of tensor: {tensor.shape}\")\n",
        "print(f\"Device of tensor: {tensor.device}\")"
      ],
      "metadata": {
        "colab": {
          "base_uri": "https://localhost:8080/"
        },
        "id": "CzC8AfdCXm9R",
        "outputId": "743de3fe-a408-47cf-f023-e966f28fd7c6"
      },
      "execution_count": 3,
      "outputs": [
        {
          "output_type": "stream",
          "name": "stdout",
          "text": [
            "Datatype of tensor: torch.float32\n",
            "Shape of tensor: torch.Size([3, 4])\n",
            "Device of tensor: cpu\n"
          ]
        }
      ]
    },
    {
      "cell_type": "markdown",
      "source": [
        "#Manipulating Tensor (Tensor operations)\n",
        "\n",
        "Tensor operations include :\n",
        "\n",
        "\n",
        "*   Addition\n",
        "\n",
        "*   Subtraction\n",
        "*   Multiplication (element-wise)\n",
        "\n",
        "\n",
        "*   Division\n",
        "*   Matrix multiplication\n",
        "\n"
      ],
      "metadata": {
        "id": "S4047QkbYpkR"
      }
    },
    {
      "cell_type": "code",
      "source": [
        "# Create a tensor and add 10 to it.\n",
        "tensor = torch.tensor([4,5,6])\n",
        "tensor + 10"
      ],
      "metadata": {
        "colab": {
          "base_uri": "https://localhost:8080/"
        },
        "id": "gv1fL6eMZazZ",
        "outputId": "f599b242-517f-4408-c2e3-530e1039a471"
      },
      "execution_count": 4,
      "outputs": [
        {
          "output_type": "execute_result",
          "data": {
            "text/plain": [
              "tensor([14, 15, 16])"
            ]
          },
          "metadata": {},
          "execution_count": 4
        }
      ]
    },
    {
      "cell_type": "code",
      "source": [
        "# Multiply by 10\n",
        "tensor * 10"
      ],
      "metadata": {
        "colab": {
          "base_uri": "https://localhost:8080/"
        },
        "id": "aMBuoqyJZ2e5",
        "outputId": "df81d9b7-1ecd-4865-a9b2-6c9e0279954f"
      },
      "execution_count": 5,
      "outputs": [
        {
          "output_type": "execute_result",
          "data": {
            "text/plain": [
              "tensor([40, 50, 60])"
            ]
          },
          "metadata": {},
          "execution_count": 5
        }
      ]
    },
    {
      "cell_type": "code",
      "source": [
        "# Subtarct 10\n",
        "tensor - 10"
      ],
      "metadata": {
        "colab": {
          "base_uri": "https://localhost:8080/"
        },
        "id": "t2ZeMgUvaFHh",
        "outputId": "091ddae1-dd3c-4a29-d01c-c52b5fcb3975"
      },
      "execution_count": 6,
      "outputs": [
        {
          "output_type": "execute_result",
          "data": {
            "text/plain": [
              "tensor([-6, -5, -4])"
            ]
          },
          "metadata": {},
          "execution_count": 6
        }
      ]
    },
    {
      "cell_type": "code",
      "source": [
        "# PyTorch in-built functions\n",
        "print(torch.add(tensor, 10))\n",
        "print(torch.sub(tensor, 10))\n",
        "print(torch.mul(tensor, 10))\n",
        "print(torch.div(tensor, 10))"
      ],
      "metadata": {
        "colab": {
          "base_uri": "https://localhost:8080/"
        },
        "id": "7t7d6fXnaOYS",
        "outputId": "83bf2ec3-b82e-4f9f-f27e-d860776b74a4"
      },
      "execution_count": 9,
      "outputs": [
        {
          "output_type": "stream",
          "name": "stdout",
          "text": [
            "tensor([14, 15, 16])\n",
            "tensor([-6, -5, -4])\n",
            "tensor([40, 50, 60])\n",
            "tensor([0.4000, 0.5000, 0.6000])\n"
          ]
        }
      ]
    },
    {
      "cell_type": "code",
      "source": [
        "# Element-wise multiplication\n",
        "print(tensor ,\"*\", tensor)\n",
        "print(f\"Equals : {tensor * tensor}\")"
      ],
      "metadata": {
        "colab": {
          "base_uri": "https://localhost:8080/"
        },
        "id": "kbWPV6LIcM2Z",
        "outputId": "4d0814dd-b621-4262-9484-102f773352a9"
      },
      "execution_count": 10,
      "outputs": [
        {
          "output_type": "stream",
          "name": "stdout",
          "text": [
            "tensor([4, 5, 6]) * tensor([4, 5, 6])\n",
            "Equals : tensor([16, 25, 36])\n"
          ]
        }
      ]
    },
    {
      "cell_type": "code",
      "source": [
        "# Matrix multiplication (dot product)\n",
        "test1 = torch.tensor([[1,2,3],\n",
        "                      [4,5,6]])\n",
        "\n",
        "test2 = torch.tensor([[7,8],\n",
        "                      [9,10],\n",
        "                      [11,12]])\n",
        "\n",
        "torch.matmul(test1, test2)"
      ],
      "metadata": {
        "colab": {
          "base_uri": "https://localhost:8080/"
        },
        "id": "cq6hEaC9d1TY",
        "outputId": "bf2dfe98-51c4-423d-acbc-d26b13412122"
      },
      "execution_count": 15,
      "outputs": [
        {
          "output_type": "execute_result",
          "data": {
            "text/plain": [
              "tensor([[ 58,  64],\n",
              "        [139, 154]])"
            ]
          },
          "metadata": {},
          "execution_count": 15
        }
      ]
    }
  ]
}