{
  "nbformat": 4,
  "nbformat_minor": 0,
  "metadata": {
    "colab": {
      "provenance": [],
      "authorship_tag": "ABX9TyOc0KC3RjYMgz2y5dAaKMKH",
      "include_colab_link": true
    },
    "kernelspec": {
      "name": "python3",
      "display_name": "Python 3"
    },
    "language_info": {
      "name": "python"
    }
  },
  "cells": [
    {
      "cell_type": "markdown",
      "metadata": {
        "id": "view-in-github",
        "colab_type": "text"
      },
      "source": [
        "<a href=\"https://colab.research.google.com/github/Jeet2561/13sep_Jeet/blob/main/Statistics_Outliers.ipynb\" target=\"_parent\"><img src=\"https://colab.research.google.com/assets/colab-badge.svg\" alt=\"Open In Colab\"/></a>"
      ]
    },
    {
      "cell_type": "code",
      "execution_count": 1,
      "metadata": {
        "id": "G_mgxhmWIWP3"
      },
      "outputs": [],
      "source": [
        "import numpy as np"
      ]
    },
    {
      "cell_type": "code",
      "source": [
        "arr = np.array([2,3,4,6,7,8,9,12,13,16,17,23,25,27,34,37,201])\n",
        "arr"
      ],
      "metadata": {
        "colab": {
          "base_uri": "https://localhost:8080/"
        },
        "id": "jNIt9CAcKKg9",
        "outputId": "6da8960a-df57-4d64-a706-3d9c2f1f6b06"
      },
      "execution_count": 2,
      "outputs": [
        {
          "output_type": "execute_result",
          "data": {
            "text/plain": [
              "array([  2,   3,   4,   6,   7,   8,   9,  12,  13,  16,  17,  23,  25,\n",
              "        27,  34,  37, 201])"
            ]
          },
          "metadata": {},
          "execution_count": 2
        }
      ]
    },
    {
      "cell_type": "code",
      "source": [
        "Q1 = np.percentile(arr, 25)\n",
        "Q3 = np.percentile(arr, 75)\n",
        "IQR = Q3 - Q1\n",
        "print(\"Q1 : \" , Q1)\n",
        "print(\"Q3 : \" , Q3)\n",
        "print(\"IQR : \" , IQR)"
      ],
      "metadata": {
        "colab": {
          "base_uri": "https://localhost:8080/"
        },
        "id": "6JUbhiWLKgWN",
        "outputId": "a9744b89-129e-49a9-b7bc-f51f02167dbe"
      },
      "execution_count": 4,
      "outputs": [
        {
          "output_type": "stream",
          "name": "stdout",
          "text": [
            "Q1 :  7.0\n",
            "Q3 :  25.0\n",
            "IQR :  18.0\n"
          ]
        }
      ]
    },
    {
      "cell_type": "code",
      "source": [
        "UF = Q3 + 1.5*IQR\n",
        "LF = Q1 - 1.5*IQR\n",
        "print(\"Upper fence : \" , UF)\n",
        "print(\"Lower fence : \" , LF)"
      ],
      "metadata": {
        "colab": {
          "base_uri": "https://localhost:8080/"
        },
        "id": "7tA9GHTuMNw9",
        "outputId": "57f7a0c3-e268-4231-f472-510c21bc152e"
      },
      "execution_count": 10,
      "outputs": [
        {
          "output_type": "stream",
          "name": "stdout",
          "text": [
            "Upper fence :  52.0\n",
            "Lower fence :  -20.0\n"
          ]
        }
      ]
    },
    {
      "cell_type": "code",
      "source": [
        "l = []\n",
        "for i in arr:\n",
        "    if i >= LF and i <= UF:\n",
        "        l.append(i)\n",
        "arr2 = np.array(l)\n",
        "\n",
        "print(\"Default array with outlier : \" , arr)\n",
        "print(\"Array without outlier : \" , arr2)"
      ],
      "metadata": {
        "colab": {
          "base_uri": "https://localhost:8080/"
        },
        "id": "gb9e6amvMRsj",
        "outputId": "2c74a441-1496-4c96-c376-9a8d019cbe4b"
      },
      "execution_count": 13,
      "outputs": [
        {
          "output_type": "stream",
          "name": "stdout",
          "text": [
            "Default array with outlier :  [  2   3   4   6   7   8   9  12  13  16  17  23  25  27  34  37 201]\n",
            "Array without outlier :  [ 2  3  4  6  7  8  9 12 13 16 17 23 25 27 34 37]\n"
          ]
        }
      ]
    }
  ]
}